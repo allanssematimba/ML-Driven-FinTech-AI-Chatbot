{
 "cells": [
  {
   "cell_type": "code",
   "execution_count": 1,
   "id": "721f5aa9",
   "metadata": {},
   "outputs": [],
   "source": [
    "# Import necessary libraries and modules\n",
    "import random\n",
    "import json\n",
    "import pickle\n",
    "import numpy as np"
   ]
  },
  {
   "cell_type": "code",
   "execution_count": 42,
   "id": "5ae92032",
   "metadata": {},
   "outputs": [],
   "source": [
    "import nltk\n",
    "from nltk.stem import WordNetLemmatizer"
   ]
  },
  {
   "cell_type": "code",
   "execution_count": 43,
   "id": "32204bdd",
   "metadata": {},
   "outputs": [],
   "source": [
    "from tensorflow.keras.models import load_model"
   ]
  },
  {
   "cell_type": "code",
   "execution_count": 57,
   "id": "9aec3055",
   "metadata": {},
   "outputs": [],
   "source": [
    "# Initialize WordNetLemmatizer for word lemmatization\n",
    "lemmatizer = WordNetLemmatizer()\n",
    "\n",
    "# Load intents data from intents.json file\n",
    "intents = json.loads(open('intents.json').read())"
   ]
  },
  {
   "cell_type": "code",
   "execution_count": 64,
   "id": "f40ad033",
   "metadata": {},
   "outputs": [],
   "source": [
    "# Load pre-processed data from files (words.pkl, classes.pkl, chatbotmodel.h5)\n",
    "words = pickle.load(open('words.pkl', 'rb'))\n",
    "classes = pickle.load(open('classes.pkl', 'rb'))\n",
    "model = load_model('chatbotmodel.h5')"
   ]
  },
  {
   "cell_type": "code",
   "execution_count": 65,
   "id": "1a3b6a7d",
   "metadata": {},
   "outputs": [],
   "source": [
    "# Define function to clean up user input sentence\n",
    "def clean_up_sentence(sentence):\n",
    "    sentence_words = nltk.word_tokenize(sentence)\n",
    "    sentence_words = [lemmatizer.lemmatize(word) for word in sentence_words]\n",
    "    return sentence_words"
   ]
  },
  {
   "cell_type": "code",
   "execution_count": 66,
   "id": "6f0417e4",
   "metadata": {},
   "outputs": [],
   "source": [
    "# Define function to convert cleaned sentence to bag of words\n",
    "def bag_of_words(sentence):\n",
    "    sentence_words = clean_up_sentence(sentence)\n",
    "    bag = [0] * len(words)\n",
    "    for w in sentence_words:\n",
    "        for i, word in enumerate(words):\n",
    "            if word == w:\n",
    "                bag[i] = 1\n",
    "    return np.array(bag)"
   ]
  },
  {
   "cell_type": "code",
   "execution_count": 67,
   "id": "26ee1de8",
   "metadata": {},
   "outputs": [],
   "source": [
    "# Define function to predict the intent class of user input sentence\n",
    "def predict_class(sentence):\n",
    "    bow = bag_of_words(sentence)\n",
    "    res = model.predict(np.array([bow]))[0]\n",
    "    ERROR_THRESHOLD = 0.25\n",
    "    results = [[i, r] for i, r in enumerate(res) if r > ERROR_THRESHOLD]\n",
    "    \n",
    "    results.sort(key=lambda x: x[1], reverse=True)\n",
    "    return_list = []\n",
    "    for r in results:\n",
    "        return_list.append({'intent': classes[r[0]], 'probability': str(r[1])})\n",
    "    return return_list"
   ]
  },
  {
   "cell_type": "code",
   "execution_count": 68,
   "id": "f39544ab",
   "metadata": {},
   "outputs": [],
   "source": [
    "# Define function to get a random response based on the predicted intent class\n",
    "def get_response(intents_list, intents_json):\n",
    "    tag = intents_list[0]['intent']\n",
    "    list_of_intents = intents_json['intents']\n",
    "    for i in list_of_intents:\n",
    "        if i['tag'] == tag:\n",
    "            result = random.choice(i['responses'])\n",
    "            break\n",
    "    return result"
   ]
  },
  {
   "cell_type": "code",
   "execution_count": 50,
   "id": "461d3749",
   "metadata": {
    "scrolled": false
   },
   "outputs": [
    {
     "name": "stdout",
     "output_type": "stream",
     "text": [
      "Go! Finbot is running!\n"
     ]
    }
   ],
   "source": [
    "# Start the chatbot\n",
    "print('Go! Finbot is running!')"
   ]
  },
  {
   "cell_type": "code",
   "execution_count": null,
   "id": "bf7d15e7",
   "metadata": {},
   "outputs": [
    {
     "name": "stdout",
     "output_type": "stream",
     "text": [
      "hello\n",
      "1/1 [==============================] - 1s 936ms/step\n",
      "Good day! How can I assist you?\n",
      "What time do you open?\n",
      "1/1 [==============================] - 0s 147ms/step\n",
      "Our hours are Monday to Friday from 9am to 5pm.\n",
      "How much is in my account?\n",
      "1/1 [==============================] - 0s 69ms/step\n",
      "Your current account balance is $234,075.26\n",
      "Show me my recent transactions\n",
      "1/1 [==============================] - 0s 23ms/step\n",
      "- Bill payment to Netflix for $9.99 on January 2nd 2023\n",
      "Recent transactions?\n",
      "1/1 [==============================] - 0s 86ms/step\n",
      "- Bill payment to Netflix for $9.99 on January 2nd 2023\n",
      "What is my credit limit\n",
      "1/1 [==============================] - 0s 63ms/step\n",
      "Your available credit is $X out of a total credit limit of $Y.\n",
      "When is my payment due date\n",
      "1/1 [==============================] - 0s 20ms/step\n",
      "Your next payment is due on December 14th 2023.\n",
      "How do I activate a new card\n",
      "1/1 [==============================] - 0s 25ms/step\n",
      "To activate your card, please call 583-777-0020 or log in to your online banking.\n",
      "My card just got stolen\n",
      "1/1 [==============================] - 0s 25ms/step\n",
      "To lock or cancel your card, please send the last 4 digits of your SS, address, and mother's maiden name.\n",
      "What is my account number\n",
      "1/1 [==============================] - 0s 25ms/step\n",
      "Your account number is 564732290855. If you need further assistance, please don't hesitate to ask!\n",
      "How are my shares\n",
      "1/1 [==============================] - 0s 20ms/step\n",
      "Here are the stocks in your portfolio: AAPL, NVDA, AMZN. To see how they are performing, please visit our online trading platform or contact a financial advisor.\n"
     ]
    }
   ],
   "source": [
    "# Run the chatbot continuously to respond to user input\n",
    "while True:\n",
    "    message = input(\"\")\n",
    "    ints = predict_class(message)\n",
    "    res = get_response(ints, intents)\n",
    "    print(res)"
   ]
  }
 ],
 "metadata": {
  "kernelspec": {
   "display_name": "Python 3 (ipykernel)",
   "language": "python",
   "name": "python3"
  },
  "language_info": {
   "codemirror_mode": {
    "name": "ipython",
    "version": 3
   },
   "file_extension": ".py",
   "mimetype": "text/x-python",
   "name": "python",
   "nbconvert_exporter": "python",
   "pygments_lexer": "ipython3",
   "version": "3.9.15"
  }
 },
 "nbformat": 4,
 "nbformat_minor": 5
}
